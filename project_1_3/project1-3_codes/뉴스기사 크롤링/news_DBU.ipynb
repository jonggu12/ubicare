{
 "cells": [
  {
   "cell_type": "code",
   "execution_count": 1,
   "metadata": {},
   "outputs": [
    {
     "name": "stdout",
     "output_type": "stream",
     "text": [
      "뉴스기사 크롤링을 시작합니다 \n",
      "\n",
      "뉴스기사 크롤링이 완료되었습니다 \n",
      "\n",
      "==================================================\n",
      "news TABLE 업데이트를 시작합니다\n"
     ]
    },
    {
     "name": "stderr",
     "output_type": "stream",
     "text": [
      "100%|██████████| 30/30 [00:01<00:00, 19.62it/s]\n"
     ]
    },
    {
     "name": "stdout",
     "output_type": "stream",
     "text": [
      "\n",
      " news TABLE 업데이트가 완료되었습니다\n",
      "================================================== \n",
      "\n"
     ]
    }
   ],
   "source": [
    "import requests\n",
    "import pymysql\n",
    "import time\n",
    "from tqdm import tqdm\n",
    "\n",
    "client_id = \"Tpxh0NY4bDkkbQdtocN_\"\n",
    "client_secret = \"8aSo9n_T8b\"\n",
    "\n",
    "# 검색어와 검색 결과 개수 설정\n",
    "query = \"피부 피부관리 피부건강\"\n",
    "len_news = 30  # 가져올 뉴스 기사 개수 (최대 100개)\n",
    "\n",
    "# API 호출 URL 설정\n",
    "url = f\"https://openapi.naver.com/v1/search/news.json?query={query}&display={len_news}\"\n",
    "\n",
    "# 요청 헤더에 클라이언트 정보 추가\n",
    "headers = {\n",
    "    \"X-Naver-Client-Id\": client_id,\n",
    "    \"X-Naver-Client-Secret\": client_secret\n",
    "}\n",
    "\n",
    "try:\n",
    "    # API 호출 및 응답 받기\n",
    "    response = requests.get(url, headers=headers)\n",
    "\n",
    "    # 응답 코드 확인\n",
    "    if response.status_code == 200:\n",
    "        print('뉴스기사 크롤링을 시작합니다', '\\n')\n",
    "        time.sleep(1)\n",
    "        data = response.json()  # json형태의 데이터를 python 딕셔너리로 변환하여 data에 담는 코드\n",
    "        time.sleep(1)\n",
    "        print('뉴스기사 크롤링이 완료되었습니다', '\\n')\n",
    "        print('=' * 50)\n",
    "        \n",
    "        conn, cur = None, None\n",
    "        conn = pymysql.connect(host='localhost', user='root', password='1111', db='newsDB', charset='utf8')\n",
    "        cur = conn.cursor()\n",
    "\n",
    "        cur.execute('DROP TABLE IF EXISTS news')\n",
    "        cur.execute('CREATE TABLE IF NOT EXISTS news (news_title char(100), link TEXT)')\n",
    "\n",
    "        sql = 'INSERT INTO news (news_title, link) VALUES (%s, %s)'\n",
    "        \n",
    "        # 뉴스 기사 출력\n",
    "        if data.get(\"items\"):  # data dictionary에서 items에 해당하는 value만 가져오기\n",
    "            print('news TABLE 업데이트를 시작합니다')\n",
    "            for item in tqdm(data[\"items\"]):\n",
    "                news_title = item[\"title\"]\n",
    "                link = item[\"link\"]\n",
    "                \n",
    "                cur.execute(sql, (news_title, link))\n",
    "                conn.commit()\n",
    "                time.sleep(0.04)\n",
    "            conn.close()\n",
    "            print('\\n', 'news TABLE 업데이트가 완료되었습니다')\n",
    "            print('=' * 50, '\\n')\n",
    "            time.sleep(0.8)\n",
    "        else:\n",
    "            print(\"뉴스 검색 결과가 없습니다.\")\n",
    "    else:\n",
    "        print(\"API 호출 실패. 응답 코드:\", response.status_code)\n",
    "except Exception as e:\n",
    "    print(\"에러 발생:\", str(e))\n"
   ]
  }
 ],
 "metadata": {
  "kernelspec": {
   "display_name": "Python 3",
   "language": "python",
   "name": "python3"
  },
  "language_info": {
   "codemirror_mode": {
    "name": "ipython",
    "version": 3
   },
   "file_extension": ".py",
   "mimetype": "text/x-python",
   "name": "python",
   "nbconvert_exporter": "python",
   "pygments_lexer": "ipython3",
   "version": "3.9.18"
  }
 },
 "nbformat": 4,
 "nbformat_minor": 2
}
