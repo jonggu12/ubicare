{
 "cells": [
  {
   "cell_type": "code",
   "execution_count": null,
   "metadata": {
    "vscode": {
     "languageId": "plaintext"
    }
   },
   "outputs": [],
   "source": [
    "import pymysql\n",
    "import pandas as pd\n",
    "\n",
    "doctor_now_df = pd.read_csv('닥터나우 앱 리뷰.csv')\n",
    "good_doc_df = pd.read_csv('굿닥 앱 리뷰.csv')\n",
    "my_doctor_df = pd.read_csv('나만의닥터 앱 리뷰.csv')\n",
    "\n",
    "doctor_now_df['평점'] = doctor_now_df['평점'].astype(int)\n",
    "label_list = [1 if i >= 4 else 0 for i in doctor_now_df['평점']]\n",
    "doctor_now_df['label'] = label_list\n",
    "doctor_now_df['app'] = '01'\n",
    "\n",
    "good_doc_df['평점'] = good_doc_df['평점'].astype(int)\n",
    "label_list = [1 if i >= 4 else 0 for i in good_doc_df['평점']]\n",
    "good_doc_df['label'] = label_list\n",
    "good_doc_df['app'] = '02'\n",
    "\n",
    "my_doctor_df['평점'] = my_doctor_df['평점'].astype(int)\n",
    "label_list = [1 if i >= 4 else 0 for i in my_doctor_df['평점']]\n",
    "my_doctor_df['label'] = label_list\n",
    "my_doctor_df['app'] = '03'\n",
    "\n",
    "conn, cur = None, None\n",
    "conn = pymysql.connect(host='localhost', user='root', password='1111', db='appreviewDB', charset='utf8')\n",
    "cur = conn.cursor()\n",
    "\n",
    "cur.execute(f'DROP TABLE IF EXISTS reviewTBL')\n",
    "cur.execute(f'CREATE TABLE IF NOT EXISTS reviewTBL (review TEXT, rate FLOAT, label FLOAT, app CHAR(100))')\n",
    "\n",
    "sql = f'''REPLACE INTO reviewTBL (review, rate, label, app) VALUES (%s, %s, %s, %s)'''\n",
    "\n",
    "for i in range(len(doctor_now_df['리뷰'])):\n",
    "    review = doctor_now_df['리뷰'][i]\n",
    "    rate = doctor_now_df['평점'][i]\n",
    "    label = doctor_now_df['label'][i]\n",
    "    app = doctor_now_df['app'][i]\n",
    "    \n",
    "    cur.execute(sql, (review, rate, label, app))\n",
    "    \n",
    "for i in range(len(my_doctor_df['리뷰'])):\n",
    "    review = my_doctor_df['리뷰'][i]\n",
    "    rate = my_doctor_df['평점'][i]\n",
    "    label = my_doctor_df['label'][i]\n",
    "    app = my_doctor_df['app'][i]\n",
    "\n",
    "    cur.execute(sql, (review, rate, label, app))\n",
    "    \n",
    "for i in range(len(good_doc_df['리뷰'])):\n",
    "    review = good_doc_df['리뷰'][i]\n",
    "    rate = good_doc_df['평점'][i]\n",
    "    label = good_doc_df['label'][i]\n",
    "    app = good_doc_df['app'][i]\n",
    "\n",
    "    cur.execute(sql, (review, rate, label, app))\n",
    "conn.commit()"
   ]
  }
 ],
 "metadata": {
  "kernelspec": {
   "display_name": "base",
   "language": "python",
   "name": "python3"
  },
  "language_info": {
   "codemirror_mode": {
    "name": "ipython",
    "version": 3
   },
   "file_extension": ".py",
   "mimetype": "text/x-python",
   "name": "python",
   "nbconvert_exporter": "python",
   "pygments_lexer": "ipython3",
   "version": "3.11.5"
  }
 },
 "nbformat": 4,
 "nbformat_minor": 2
}
