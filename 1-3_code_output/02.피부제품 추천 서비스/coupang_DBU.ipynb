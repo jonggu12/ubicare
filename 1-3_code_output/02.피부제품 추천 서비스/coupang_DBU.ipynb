{
 "cells": [
  {
   "cell_type": "code",
   "execution_count": 2,
   "metadata": {},
   "outputs": [
    {
     "name": "stdout",
     "output_type": "stream",
     "text": [
      "2024년 02월 17일자 coupangDB 업데이트를 시작합니다\n",
      "================================================== \n",
      "\n",
      "itching테이블 제품데이터 스크래핑 시작\n"
     ]
    },
    {
     "name": "stderr",
     "output_type": "stream",
     "text": [
      "itching테이블 진행: 100%|██████████| 36/36 [00:01<00:00, 24.38it/s]\n"
     ]
    },
    {
     "name": "stdout",
     "output_type": "stream",
     "text": [
      "itching테이블 제품 데이터 스크래핑 완료 \n",
      "\n",
      "itching TABLE INSERT...\n"
     ]
    },
    {
     "name": "stderr",
     "output_type": "stream",
     "text": [
      "100%|██████████| 36/36 [00:02<00:00, 16.54it/s]\n"
     ]
    },
    {
     "name": "stdout",
     "output_type": "stream",
     "text": [
      "itching TABLE 업데이트가 완료되었습니다 \n",
      "\n",
      "================================================== \n",
      "\n",
      "atopy테이블 제품데이터 스크래핑 시작\n"
     ]
    },
    {
     "name": "stderr",
     "output_type": "stream",
     "text": [
      "atopy테이블 진행: 100%|██████████| 36/36 [00:05<00:00,  6.39it/s]\n"
     ]
    },
    {
     "name": "stdout",
     "output_type": "stream",
     "text": [
      "atopy테이블 제품 데이터 스크래핑 완료 \n",
      "\n",
      "atopy TABLE INSERT...\n"
     ]
    },
    {
     "name": "stderr",
     "output_type": "stream",
     "text": [
      "100%|██████████| 36/36 [00:02<00:00, 16.62it/s]\n"
     ]
    },
    {
     "name": "stdout",
     "output_type": "stream",
     "text": [
      "atopy TABLE 업데이트가 완료되었습니다 \n",
      "\n",
      "================================================== \n",
      "\n",
      "psoriasis테이블 제품데이터 스크래핑 시작\n"
     ]
    },
    {
     "name": "stderr",
     "output_type": "stream",
     "text": [
      "psoriasis테이블 진행: 100%|██████████| 36/36 [00:05<00:00,  6.35it/s]\n"
     ]
    },
    {
     "name": "stdout",
     "output_type": "stream",
     "text": [
      "psoriasis테이블 제품 데이터 스크래핑 완료 \n",
      "\n",
      "psoriasis TABLE INSERT...\n"
     ]
    },
    {
     "name": "stderr",
     "output_type": "stream",
     "text": [
      "100%|██████████| 36/36 [00:02<00:00, 16.60it/s]\n"
     ]
    },
    {
     "name": "stdout",
     "output_type": "stream",
     "text": [
      "psoriasis TABLE 업데이트가 완료되었습니다 \n",
      "\n",
      "================================================== \n",
      "\n",
      "seborrheic테이블 제품데이터 스크래핑 시작\n"
     ]
    },
    {
     "name": "stderr",
     "output_type": "stream",
     "text": [
      "seborrheic테이블 진행: 100%|██████████| 36/36 [00:05<00:00,  6.25it/s]\n"
     ]
    },
    {
     "name": "stdout",
     "output_type": "stream",
     "text": [
      "seborrheic테이블 제품 데이터 스크래핑 완료 \n",
      "\n",
      "seborrheic TABLE INSERT...\n"
     ]
    },
    {
     "name": "stderr",
     "output_type": "stream",
     "text": [
      "100%|██████████| 36/36 [00:02<00:00, 16.62it/s]\n"
     ]
    },
    {
     "name": "stdout",
     "output_type": "stream",
     "text": [
      "seborrheic TABLE 업데이트가 완료되었습니다 \n",
      "\n",
      "================================================== \n",
      "\n",
      "eczema테이블 제품데이터 스크래핑 시작\n"
     ]
    },
    {
     "name": "stderr",
     "output_type": "stream",
     "text": [
      "eczema테이블 진행: 100%|██████████| 36/36 [00:05<00:00,  6.45it/s]\n"
     ]
    },
    {
     "name": "stdout",
     "output_type": "stream",
     "text": [
      "eczema테이블 제품 데이터 스크래핑 완료 \n",
      "\n",
      "eczema TABLE INSERT...\n"
     ]
    },
    {
     "name": "stderr",
     "output_type": "stream",
     "text": [
      "100%|██████████| 36/36 [00:02<00:00, 16.51it/s]\n"
     ]
    },
    {
     "name": "stdout",
     "output_type": "stream",
     "text": [
      "eczema TABLE 업데이트가 완료되었습니다 \n",
      "\n",
      "================================================== \n",
      "\n"
     ]
    }
   ],
   "source": [
    "import streamlit as st\n",
    "import pandas as pd\n",
    "import mysql.connector\n",
    "from datetime import datetime\n",
    "from tqdm import tqdm\n",
    "import csv\n",
    "import pymysql\n",
    "from selenium import webdriver\n",
    "from webdriver_manager.chrome import ChromeDriverManager\n",
    "from selenium.webdriver.common.by import By\n",
    "import time\n",
    "\n",
    "conn, cur = None, None\n",
    "conn = pymysql.connect(host='localhost', user='root', password='1111')\n",
    "cur = conn.cursor()\n",
    "create_database_query = \"CREATE DATABASE IF NOT EXISTS coupangDB\"\n",
    "cur.execute(create_database_query)\n",
    "cur.close()\n",
    "conn.close()\n",
    "\n",
    "def scrap_update():\n",
    "    # 스크래핑 후 DB 각 테이블에 밀어넣기\n",
    "    itching_url = 'https://www.coupang.com/np/search?rocketAll=false&searchId=5eeac5a9b93b4ed49d170607b2515921&q=%EA%B0%80%EB%A0%A4%EC%9B%80&brand=&offerCondition=&filter=&availableDeliveryFilter=&filterType=&isPriceRange=false&priceRange=&minPrice=&maxPrice=&page=1&trcid=&traid=&filterSetByUser=true&channel=user&backgroundColor=&searchProductCount=10394&component=&rating=0&sorter=saleCountDesc&listSize=36'\n",
    "    atopy_url = 'https://www.coupang.com/np/search?rocketAll=false&searchId=9b262daefc044e919ab54daee9c54d21&q=%EC%95%84%ED%86%A0%ED%94%BC&brand=&offerCondition=&filter=&availableDeliveryFilter=&filterType=&isPriceRange=false&priceRange=&minPrice=&maxPrice=&page=1&trcid=&traid=&filterSetByUser=true&channel=user&backgroundColor=&searchProductCount=14363&component=&rating=0&sorter=saleCountDesc&listSize=36'\n",
    "    psoriasis_url = 'https://www.coupang.com/np/search?rocketAll=false&searchId=861551980cb04aef840b28fd50528b8e&q=%EA%B1%B4%EC%84%A0&brand=&offerCondition=&filter=&availableDeliveryFilter=&filterType=&isPriceRange=false&priceRange=&minPrice=&maxPrice=&page=1&trcid=&traid=&filterSetByUser=true&channel=user&backgroundColor=&searchProductCount=3575&component=&rating=0&sorter=saleCountDesc&listSize=36'\n",
    "    seborrheic_url = 'https://www.coupang.com/np/search?rocketAll=false&searchId=921c6c505c404156ae38158577502644&q=%EC%A7%80%EB%A3%A8%EC%84%B1+%ED%94%BC%EB%B6%80%EC%97%BC&brand=&offerCondition=&filter=&availableDeliveryFilter=&filterType=&isPriceRange=false&priceRange=&minPrice=&maxPrice=&page=1&trcid=&traid=&filterSetByUser=true&channel=user&backgroundColor=&searchProductCount=2953&component=&rating=0&sorter=saleCountDesc&listSize=36'\n",
    "    eczema_url = 'https://www.coupang.com/np/search?rocketAll=false&searchId=8b7c65d2d6304667a7b77b702dbddb20&q=%EC%8A%B5%EC%A7%84&brand=&offerCondition=&filter=&availableDeliveryFilter=&filterType=&isPriceRange=false&priceRange=&minPrice=&maxPrice=&page=1&trcid=&traid=&filterSetByUser=true&channel=user&backgroundColor=&searchProductCount=5009&component=&rating=0&sorter=saleCountDesc&listSize=36'\n",
    "    url_list = [itching_url, atopy_url, psoriasis_url, seborrheic_url, eczema_url]\n",
    "\n",
    "    table_list = ['itching', 'atopy', 'psoriasis', 'seborrheic', 'eczema']\n",
    "\n",
    "    for url, table in zip(url_list, table_list):\n",
    "        print(f'{table}테이블 제품데이터 스크래핑 시작')\n",
    "\n",
    "        prd_name_list = []\n",
    "        prd_price_list = []\n",
    "        prd_rate_list = []\n",
    "        prd_link_list = []\n",
    "\n",
    "        options = webdriver.ChromeOptions()\n",
    "        options.add_argument('--disable-blink-features=AutomationControlled')\n",
    "        driver = webdriver.Chrome()\n",
    "\n",
    "        driver.get(url)\n",
    "        time.sleep(1)\n",
    "\n",
    "        prd_container = driver.find_element(By.ID, 'productList')\n",
    "        prd_list = prd_container.find_elements(By.TAG_NAME, 'li')\n",
    "\n",
    "        for idx, prd in enumerate(tqdm(prd_list, desc=f'{table}테이블 진행')):\n",
    "            try:\n",
    "                prd_name = prd.find_element(By.CSS_SELECTOR, '.name').text\n",
    "                prd_price = int(prd.find_element(By.CSS_SELECTOR, '.price-value').text.replace(',', ''))\n",
    "                prd_rate = float(prd.find_element(By.CSS_SELECTOR, '.rating').text)\n",
    "                link = prd.find_element(By.CSS_SELECTOR, '.search-product-link')\n",
    "                prd_link = link.get_attribute('href')\n",
    "\n",
    "                prd_name_list.append(prd_name)\n",
    "                prd_price_list.append(prd_price)\n",
    "                prd_rate_list.append(prd_rate)\n",
    "                prd_link_list.append(prd_link)\n",
    "            except:\n",
    "                pass\n",
    "\n",
    "        driver.quit()\n",
    "\n",
    "        time.sleep(1)\n",
    "        print(f'{table}테이블 제품 데이터 스크래핑 완료', '\\n')\n",
    "\n",
    "        data = {\n",
    "            '제품명': prd_name_list,\n",
    "            '가격': prd_price_list,\n",
    "            '평점': prd_rate_list,\n",
    "            '링크': prd_link_list,\n",
    "        }\n",
    "\n",
    "        conn = pymysql.connect(host='localhost', user='root', password='1111', db='coupangDB')\n",
    "        cur = conn.cursor()\n",
    "        cur.execute(f'DROP TABLE IF EXISTS {table}')\n",
    "        cur.execute(f'CREATE TABLE IF NOT EXISTS {table} (id INT AUTO_INCREMENT PRIMARY KEY, product char(100), price INT, rate FLOAT, url TEXT)')\n",
    "\n",
    "        sql = f'''INSERT INTO {table} (product, price, rate, url) VALUES (%s, %s, %s, %s)'''\n",
    "\n",
    "        print(f'{table} TABLE INSERT...')\n",
    "        for i in tqdm(range(len(data['제품명']))):\n",
    "            product = data['제품명'][i]\n",
    "            price = data['가격'][i]\n",
    "            rate = data['평점'][i]\n",
    "            url = data['링크'][i]\n",
    "\n",
    "            cur.execute(sql, (product, price, rate, url))\n",
    "            conn.commit()\n",
    "            time.sleep(0.05)\n",
    "            \n",
    "        cur.close()\n",
    "        conn.close()\n",
    "        print(f'{table} TABLE 업데이트가 완료되었습니다', '\\n')\n",
    "        print('=' * 50, '\\n')\n",
    "        time.sleep(0.5)\n",
    "\n",
    "def CoupangDB_Update():\n",
    "    date = datetime.today().strftime(\"%Y년 %m월 %d일\")\n",
    "    print(f'{date}자 coupangDB 업데이트를 시작합니다')\n",
    "    print('=' * 50, '\\n')\n",
    "    scrap_update()\n",
    "\n",
    "if __name__ == \"__main__\":\n",
    "    CoupangDB_Update()"
   ]
  }
 ],
 "metadata": {
  "kernelspec": {
   "display_name": "base",
   "language": "python",
   "name": "python3"
  },
  "language_info": {
   "codemirror_mode": {
    "name": "ipython",
    "version": 3
   },
   "file_extension": ".py",
   "mimetype": "text/x-python",
   "name": "python",
   "nbconvert_exporter": "python",
   "pygments_lexer": "ipython3",
   "version": "3.9.18"
  }
 },
 "nbformat": 4,
 "nbformat_minor": 2
}
